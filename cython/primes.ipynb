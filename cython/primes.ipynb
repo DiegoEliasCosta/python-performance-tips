{
 "cells": [
  {
   "cell_type": "code",
   "execution_count": 1,
   "metadata": {
    "collapsed": true
   },
   "outputs": [],
   "source": [
    "%load_ext Cython\n",
    " "
   ]
  },
  {
   "cell_type": "code",
   "execution_count": 4,
   "metadata": {
    "collapsed": true
   },
   "outputs": [],
   "source": [
    "%%cython\n",
    "from __future__ import print_function\n",
    "cimport cython\n",
    "import numpy as np\n",
    "cimport numpy as np\n",
    "\n",
    "def primes_dynamic(int nb_primes):\n",
    "    \"\"\" Dynamically allocate an nd-array of size nb_primes \"\"\"\n",
    "    cdef int n, i, len_p\n",
    "    nb_primes = min(nb_primes, 1000000)\n",
    "\n",
    "    # p =  np.zeros(nb_primes, dtype=np.long)\n",
    "    # For creating np arrays in cython and using memoryview, see\n",
    "    # http://cython.readthedocs.io/en/latest/src/userguide/numpy_tutorial.html\n",
    "    p_np =  np.zeros((nb_primes,), dtype=np.int)\n",
    "    cdef int [:] p = p_np\n",
    "\n",
    "\n",
    "    len_p = 0  # The current number of elements in p.\n",
    "    n = 2\n",
    "    while len_p < nb_primes:\n",
    "        # Is n prime?\n",
    "        for i in range(len_p):\n",
    "            if n % p[i] == 0:\n",
    "                break\n",
    "\n",
    "        # If no break occurred in the loop, we have a prime.\n",
    "        else:\n",
    "            p[len_p] = n\n",
    "            len_p += 1\n",
    "        n += 1\n",
    "\n",
    "    # print (\"Number tested up to: \", n)\n",
    "    # Let's return the result in a python list:\n",
    "    # result_as_list  = [prime for prime in p[:len_p]]\n",
    "    largest_prime = p[len_p-1]\n",
    "    return largest_prime"
   ]
  },
  {
   "cell_type": "code",
   "execution_count": 5,
   "metadata": {},
   "outputs": [
    {
     "name": "stdout",
     "output_type": "stream",
     "text": [
      "283 ms ± 16.7 ms per loop (mean ± std. dev. of 7 runs, 1 loop each)\n"
     ]
    }
   ],
   "source": [
    "%timeit primes_dynamic(10000)"
   ]
  },
  {
   "cell_type": "markdown",
   "metadata": {},
   "source": [
    "### Python Loop Implementation\n",
    "\n",
    "Quite slow with two loops in Python"
   ]
  },
  {
   "cell_type": "code",
   "execution_count": 6,
   "metadata": {
    "collapsed": true
   },
   "outputs": [],
   "source": [
    "def primes(nb_primes):\n",
    "    p = list()\n",
    "\n",
    "    len_p = 0  # The current number of elements in p.\n",
    "    n = 2\n",
    "    while len_p < nb_primes:\n",
    "        # Is n prime?\n",
    "        for i in p[:len_p]:\n",
    "            if n % i == 0:\n",
    "                break\n",
    "\n",
    "        # If no break occurred in the loop, we have a prime.\n",
    "        else:\n",
    "            p.append(n)\n",
    "            len_p += 1\n",
    "        n += 1\n",
    "\n",
    "    # Let's return the result in a python list:\n",
    "    # result_as_list  = [prime for prime in p[:len_p]]\n",
    "    return p[len_p-1]"
   ]
  },
  {
   "cell_type": "code",
   "execution_count": 7,
   "metadata": {},
   "outputs": [
    {
     "name": "stdout",
     "output_type": "stream",
     "text": [
      "30 s ± 8.81 s per loop (mean ± std. dev. of 7 runs, 1 loop each)\n"
     ]
    }
   ],
   "source": [
    "%timeit primes(10000)"
   ]
  }
 ],
 "metadata": {
  "kernelspec": {
   "display_name": "Python 3",
   "language": "python",
   "name": "python3"
  },
  "language_info": {
   "codemirror_mode": {
    "name": "ipython",
    "version": 3
   },
   "file_extension": ".py",
   "mimetype": "text/x-python",
   "name": "python",
   "nbconvert_exporter": "python",
   "pygments_lexer": "ipython3",
   "version": "3.6.3"
  }
 },
 "nbformat": 4,
 "nbformat_minor": 2
}
