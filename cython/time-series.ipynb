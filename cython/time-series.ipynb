{
 "cells": [
  {
   "cell_type": "code",
   "execution_count": 4,
   "metadata": {},
   "outputs": [
    {
     "name": "stdout",
     "output_type": "stream",
     "text": [
      "The Cython extension is already loaded. To reload it, use:\n",
      "  %reload_ext Cython\n"
     ]
    }
   ],
   "source": [
    "%load_ext Cython\n",
    "\n",
    "import pandas as pd\n",
    "import numpy as np"
   ]
  },
  {
   "cell_type": "code",
   "execution_count": 6,
   "metadata": {
    "collapsed": true
   },
   "outputs": [],
   "source": [
    "N = 1000000\n",
    "posThreshold = 5\n",
    "negThreshold = 7.5\n",
    "\n",
    "index = pd.date_range('2000-01-01', periods=N, freq='min')\n",
    "seriesData  = pd.Series(np.random.randn(N), name='data', index= index)"
   ]
  },
  {
   "cell_type": "markdown",
   "metadata": {},
   "source": [
    "### Original Pandas Implementation \n",
    "\n",
    "Use Pandas + For Loop + Lists"
   ]
  },
  {
   "cell_type": "code",
   "execution_count": 5,
   "metadata": {},
   "outputs": [],
   "source": [
    "def get_CUSUM_events_v2(inseries: pd.Series, posThreshold, negThreshold = None):\n",
    "    \"\"\"\n",
    "    Implementation of the CUSUM filter, where E_{t − 1}[y_t] = y_{t − 1}\n",
    "    :param inseries: the raw time series we wish to filter\n",
    "    :param posThreshold:  the threshold for positive deltas in CUSUM\n",
    "    :param negThreshold:  the threshold for negative deltas in CUSUM; if None, then posThreshold is used\n",
    "    :return: a tuple (posEventIndex, negEventIndex) with subset of inseries.index elements,\n",
    "            for each position where:\n",
    "                posEventIndex: CUSUM-value was over the positive threshold (i.e. triggered an \"alarm\")\n",
    "                negEventIndex: CUSUM-value was over the negative threshold\n",
    "    Time needed:  38.22599673271179\n",
    "    \"\"\"\n",
    "\n",
    "    negThreshold = negThreshold if negThreshold is not None else posThreshold\n",
    "\n",
    "    posEventsList, negEventsList = [], []\n",
    "    posSum, negSum = 0.0, 0.0\n",
    "    diff = inseries.diff()\n",
    "    for i in range(1, len(diff)):\n",
    "        posSum = max(0, posSum + diff.iloc[i])\n",
    "        negSum = min(0, negSum + diff.iloc[i])\n",
    "\n",
    "        if negSum < -negThreshold:\n",
    "            negSum = 0; negEventsList.append(i)\n",
    "        elif posSum > posThreshold:\n",
    "            posSum = 0; posEventsList.append(i)\n",
    "\n",
    "    # Subset the original index of the series, and return them\n",
    "    negEventIndex  = inseries.index[negEventsList]\n",
    "    posEventIndex  = inseries.index[posEventsList]\n",
    "    return posEventIndex, negEventIndex"
   ]
  },
  {
   "cell_type": "code",
   "execution_count": 7,
   "metadata": {},
   "outputs": [
    {
     "name": "stdout",
     "output_type": "stream",
     "text": [
      "47.8 s ± 6.48 s per loop (mean ± std. dev. of 7 runs, 1 loop each)\n"
     ]
    }
   ],
   "source": [
    "%timeit get_CUSUM_events_v2(seriesData, posThreshold, negThreshold)"
   ]
  },
  {
   "cell_type": "markdown",
   "metadata": {},
   "source": [
    "### First Cython Implementation\n",
    "\n",
    "Simply adding the data types"
   ]
  },
  {
   "cell_type": "code",
   "execution_count": 18,
   "metadata": {
    "collapsed": true
   },
   "outputs": [],
   "source": [
    "%%cython\n",
    "cimport cython\n",
    "import pandas as pd\n",
    "@cython.boundscheck(False)\n",
    "@cython.wraparound(False)\n",
    "@cython.cdivision(True)\n",
    "cpdef get_CUSUM_events_vc01(inseries: pd.Series, posThreshold, negThreshold = None):\n",
    "    \"\"\"\n",
    "    Transcoded get_CUSUM_events_v2 to cython. \n",
    "    Cytonization level 1. Changed:\n",
    "        * Changed syntax of declaration + initialization from a, b = v1, v2 (Python) to cdef <type> a = v1, <type> b = v2\n",
    "        * Introduced C-vars for all loop vars\n",
    "        * Replaced Python parameters by C vars since these are used in the loop (i.e. posThreshold_c, negThreshold_c)\n",
    "        * Disabled some overflow, bounds, etc. checks\n",
    "    Remain: access diff.iloc[i] uses python -> use view.\n",
    "    Time needed:  15.864001989364624\n",
    "    \"\"\"\n",
    "    negThreshold = negThreshold if negThreshold is not None else posThreshold\n",
    "\n",
    "    posEventsList, negEventsList = [], []\n",
    "    cdef double posSum = 0.0, negSum = 0.0\n",
    "    cdef double value, posThreshold_c, negThreshold_c\n",
    "\n",
    "    # Use C variables to speed up comparizon\n",
    "    posThreshold_c = posThreshold\n",
    "    negThreshold_c = negThreshold\n",
    "\n",
    "    diff = inseries.diff()\n",
    "    for i in range(1, len(diff)):\n",
    "        value = diff.iloc[i]\n",
    "        posSum = max(0, posSum + value)\n",
    "        negSum = min(0, negSum + value)\n",
    "\n",
    "        if negSum < -negThreshold_c:\n",
    "            negSum = 0; negEventsList.append(i)\n",
    "        elif posSum > posThreshold_c:\n",
    "            posSum = 0; posEventsList.append(i)\n",
    "\n",
    "    # Subset the original index of the series, and return them\n",
    "    negEventIndex  = inseries.index[negEventsList]\n",
    "    posEventIndex  = inseries.index[posEventsList]\n",
    "    return posEventIndex, negEventIndex"
   ]
  },
  {
   "cell_type": "code",
   "execution_count": 19,
   "metadata": {},
   "outputs": [
    {
     "name": "stdout",
     "output_type": "stream",
     "text": [
      "22.8 s ± 3.24 s per loop (mean ± std. dev. of 7 runs, 1 loop each)\n"
     ]
    }
   ],
   "source": [
    "%timeit get_CUSUM_events_vc01(seriesData, posThreshold, negThreshold)"
   ]
  },
  {
   "cell_type": "markdown",
   "metadata": {},
   "source": [
    "### Cythonized Version\n",
    "\n",
    "\n",
    "Use of memory-view"
   ]
  },
  {
   "cell_type": "code",
   "execution_count": 13,
   "metadata": {},
   "outputs": [],
   "source": [
    "%%cython\n",
    "cimport cython\n",
    "import pandas as pd\n",
    "@cython.boundscheck(False)\n",
    "@cython.wraparound(False)\n",
    "@cython.cdivision(True)\n",
    "cpdef get_CUSUM_events_vc02(inseries: pd.Series, posThreshold, negThreshold = None):\n",
    "    \"\"\"\n",
    "    Transcoded get_CUSUM_events_v2 to cython. \n",
    "    Cytonization level 2, from get_CUSUM_events_vc01. Changed:\n",
    "        * all from get_CUSUM_events_vc01\n",
    "        * Changed access diff.iloc[i] from pandas call to memoryview\n",
    "        Time needed:  0.018997907638549805\n",
    "        HUGE speedup by using memory view: from 15.8 sec to 0.019 sec (830x speedup)\n",
    "    Next step: replace lists negEventsList and posEventsList by a C++ vector or such, and check possible improvement\n",
    "    \"\"\"\n",
    "\n",
    "    negThreshold = negThreshold if negThreshold is not None else posThreshold\n",
    "\n",
    "    posEventsList, negEventsList = [], []\n",
    "    cdef double posSum = 0.0, negSum = 0.0\n",
    "    cdef double value, posThreshold_c, negThreshold_c\n",
    "\n",
    "    # Use C variables to speed up comparizon\n",
    "    posThreshold_c = posThreshold\n",
    "    negThreshold_c = negThreshold\n",
    "\n",
    "    diff = inseries.diff()\n",
    "    # introduce memview, and use pandas df.values (!), i.e. numpy array instead of pd dataframe\n",
    "    cdef double [:] diff_memview = diff.values\n",
    "\n",
    "    for i in range(1, len(diff)):\n",
    "        # value = diff.iloc[i]  # original access\n",
    "        value = diff_memview[i] # access via memory view\n",
    "        posSum = max(0, posSum + value)\n",
    "        negSum = min(0, negSum + value)\n",
    "\n",
    "        if negSum < -negThreshold_c:\n",
    "            negSum = 0; negEventsList.append(i)\n",
    "        elif posSum > posThreshold_c:\n",
    "            posSum = 0; posEventsList.append(i)\n",
    "\n",
    "    # Subset the original index of the series, and return them\n",
    "    negEventIndex  = inseries.index[negEventsList]\n",
    "    posEventIndex  = inseries.index[posEventsList]\n",
    "    return posEventIndex, negEventIndex\n",
    "\n"
   ]
  },
  {
   "cell_type": "code",
   "execution_count": 14,
   "metadata": {},
   "outputs": [
    {
     "name": "stdout",
     "output_type": "stream",
     "text": [
      "23 ms ± 387 µs per loop (mean ± std. dev. of 7 runs, 10 loops each)\n"
     ]
    }
   ],
   "source": [
    "%timeit get_CUSUM_events_vc02(seriesData, posThreshold, negThreshold)"
   ]
  },
  {
   "cell_type": "markdown",
   "metadata": {},
   "source": [
    "### Numba Version\n",
    "\n",
    "Using ND-Arrays instead of Pandas Series"
   ]
  },
  {
   "cell_type": "code",
   "execution_count": 42,
   "metadata": {},
   "outputs": [],
   "source": [
    "import numba\n",
    "\n",
    "@numba.jit\n",
    "def get_CUSUM_events_numbav2(inseries: pd.Series, posThreshold, negThreshold = None):\n",
    "\n",
    "    negThreshold = negThreshold if negThreshold is not None else posThreshold\n",
    "\n",
    "    posEventsList, negEventsList = [], []\n",
    "    posSum, negSum = 0.0, 0.0\n",
    "    diff = inseries.diff().values\n",
    "    for i in range(1, len(diff)):\n",
    "        posSum = max(0, posSum + diff[i])\n",
    "        negSum = min(0, negSum + diff[i])\n",
    "\n",
    "        if negSum < -negThreshold:\n",
    "            negSum = 0; negEventsList.append(i)\n",
    "        elif posSum > posThreshold:\n",
    "            posSum = 0; posEventsList.append(i)\n",
    "\n",
    "    # Subset the original index of the series, and return them\n",
    "    negEventIndex  = inseries.index[negEventsList]\n",
    "    posEventIndex  = inseries.index[posEventsList]\n",
    "    return posEventIndex, negEventIndex"
   ]
  },
  {
   "cell_type": "code",
   "execution_count": 47,
   "metadata": {},
   "outputs": [
    {
     "name": "stdout",
     "output_type": "stream",
     "text": [
      "49.2 s ± 10.7 s per loop (mean ± std. dev. of 7 runs, 1 loop each)\n"
     ]
    }
   ],
   "source": [
    "%timeit get_CUSUM_events_numbav2(seriesData, posThreshold, negThreshold)"
   ]
  }
 ],
 "metadata": {
  "kernelspec": {
   "display_name": "Python 3",
   "language": "python",
   "name": "python3"
  }
 },
 "nbformat": 4,
 "nbformat_minor": 2
}
