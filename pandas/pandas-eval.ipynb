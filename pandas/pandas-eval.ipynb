{
 "cells": [
  {
   "cell_type": "markdown",
   "metadata": {},
   "source": [
    "# Pandas eval expression evaluation\n",
    "\n",
    "\n",
    "[Original Material](https://pandas.pydata.org/pandas-docs/stable/enhancingperf.html)\n",
    "\n",
    "The top-level function pandas.eval() implements expression evaluation of Series and DataFrame objects.\n",
    "\n",
    "The point of using eval() for expression evaluation rather than plain Python is two-fold: 1) large DataFrame objects are evaluated more efficiently and 2) large arithmetic and boolean expressions are evaluated all at once by the underlying engine (by default numexpr is used for evaluation).\n",
    "\n",
    "**Note** You should not use eval() for simple expressions or for expressions involving small DataFrames. In fact, eval() is many orders of magnitude slower for smaller expressions/objects than plain ol’ Python. A good rule of thumb is to only use eval() when you have a DataFrame with more than 10,000 rows.\n",
    "eval() supports all arithmetic expressions supported by the engine in addition to some extensions available only in pandas.\n",
    "\n",
    "**Note** The larger the frame and the larger the expression the more speedup you will see from using eval().\n",
    "\n",
    "**Note** Operations such as\n",
    "```text\n",
    "1 and 2  # would parse to 1 & 2, but should evaluate to 2\n",
    "3 or 4  # would parse to 3 | 4, but should evaluate to 3\n",
    "~1  # this is okay, but slower when using eval\n",
    "```\n",
    "should be performed in Python. An exception will be raised if you try to perform any boolean/bitwise operations with scalar operands that are not of type bool or np.bool_. Again, you should perform these kinds of operations in plain Python."
   ]
  },
  {
   "cell_type": "markdown",
   "metadata": {},
   "source": [
    "## Supported Syntax\n",
    "\n",
    "These operations are supported by pandas.eval():\n",
    "\n",
    "- Arithmetic operations except for the left shift (<<) and right shift (>>) operators, \n",
    "   - the_golden_ratio\n",
    "- Comparison operations, including chained comparisons, e.g., 2 < df < df2\n",
    "- Boolean operations, e.g., df < df2 and df3 < df4 or not df_bool\n",
    "- list and tuple literals, e.g., [1, 2] or (1, 2)\n",
    "- Attribute access, e.g., df.a\n",
    "- Subscript expressions, e.g., df[0]\n",
    "- Simple variable evaluation, e.g., pd.eval('df') (this is not very useful)\n",
    "- Math functions: sin, cos, exp, log, expm1, log1p, sqrt, sinh, cosh, tanh, arcsin, arccos, arctan, arccosh, arcsinh, arctanh, abs and arctan2.\n",
    "\n",
    "\n",
    "This Python syntax is not allowed:\n",
    "\n",
    "- Expressions\n",
    "    - Function calls other than math functions.\n",
    "    - is/is not operations\n",
    "    - if expressions\n",
    "    - lambda expressions\n",
    "    - list/set/dict comprehensions\n",
    "    - Literal dict and set expressions\n",
    "    - yield expressions\n",
    "    - Generator expressions\n",
    "    - Boolean expressions consisting of only scalar values\n",
    "- Statements\n",
    "    - Neither simple nor compound statements are allowed. This includes things like for, while, and if."
   ]
  },
  {
   "cell_type": "code",
   "execution_count": 3,
   "metadata": {
    "collapsed": true
   },
   "outputs": [],
   "source": [
    "import pandas as pd\n",
    "import numpy as np\n"
   ]
  },
  {
   "cell_type": "code",
   "execution_count": 4,
   "metadata": {},
   "outputs": [],
   "source": [
    "nrows, ncols = 20000, 100\n",
    "\n",
    "df1, df2, df3, df4 = [pd.DataFrame(np.random.randn(nrows, ncols)) for _ in range(4)]"
   ]
  },
  {
   "cell_type": "markdown",
   "metadata": {},
   "source": [
    "### Adding multiple DataFrames\n",
    "\n",
    "Speedup of 2x"
   ]
  },
  {
   "cell_type": "code",
   "execution_count": 5,
   "metadata": {},
   "outputs": [
    {
     "name": "stdout",
     "output_type": "stream",
     "text": [
      "51 ms ± 6.78 ms per loop (mean ± std. dev. of 7 runs, 10 loops each)\n"
     ]
    }
   ],
   "source": [
    "%timeit df1 + df2 + df3 + df4"
   ]
  },
  {
   "cell_type": "code",
   "execution_count": 6,
   "metadata": {},
   "outputs": [
    {
     "name": "stdout",
     "output_type": "stream",
     "text": [
      "18.9 ms ± 194 µs per loop (mean ± std. dev. of 7 runs, 10 loops each)\n"
     ]
    }
   ],
   "source": [
    "%timeit pd.eval('df1 + df2 + df3 + df4')"
   ]
  },
  {
   "cell_type": "markdown",
   "metadata": {},
   "source": [
    "### Boolean Operation\n",
    "\n",
    "Speedup of 3x"
   ]
  },
  {
   "cell_type": "code",
   "execution_count": 7,
   "metadata": {},
   "outputs": [
    {
     "name": "stdout",
     "output_type": "stream",
     "text": [
      "73.8 ms ± 7.72 ms per loop (mean ± std. dev. of 7 runs, 10 loops each)\n"
     ]
    }
   ],
   "source": [
    "%timeit (df1 > 0) & (df2 > 0) & (df3 > 0) & (df4 > 0)"
   ]
  },
  {
   "cell_type": "code",
   "execution_count": 8,
   "metadata": {},
   "outputs": [
    {
     "name": "stdout",
     "output_type": "stream",
     "text": [
      "21 ms ± 220 µs per loop (mean ± std. dev. of 7 runs, 10 loops each)\n"
     ]
    }
   ],
   "source": [
    "%timeit pd.eval('(df1 > 0) & (df2 > 0) & (df3 > 0) & (df4 > 0)')"
   ]
  },
  {
   "cell_type": "markdown",
   "metadata": {},
   "source": [
    "### "
   ]
  },
  {
   "cell_type": "code",
   "execution_count": null,
   "metadata": {
    "collapsed": true
   },
   "outputs": [],
   "source": []
  }
 ],
 "metadata": {
  "kernelspec": {
   "display_name": "Python 3",
   "language": "python",
   "name": "python3"
  },
  "language_info": {
   "codemirror_mode": {
    "name": "ipython",
    "version": 3
   },
   "file_extension": ".py",
   "mimetype": "text/x-python",
   "name": "python",
   "nbconvert_exporter": "python",
   "pygments_lexer": "ipython3",
   "version": "3.6.3"
  }
 },
 "nbformat": 4,
 "nbformat_minor": 2
}
