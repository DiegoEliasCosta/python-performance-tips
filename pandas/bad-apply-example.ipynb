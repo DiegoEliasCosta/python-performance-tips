{
 "cells": [
  {
   "cell_type": "markdown",
   "metadata": {},
   "source": [
    "# How to use more efficiently Pandas apply method\n",
    "\n",
    "\n",
    "This was an example I took from my previous code at [snippet-optimization](https://github.com/DiegoEliasCosta/snippet-optimization)\n",
    "\n",
    "Here we can see 3 methods for using apply\n",
    "1. Passing the entire dataframe\n",
    "2. Passing a Series and returning Series\n",
    "3. Passing a Series and returning a python list (fastest)\n"
   ]
  },
  {
   "cell_type": "code",
   "execution_count": 51,
   "metadata": {},
   "outputs": [
    {
     "name": "stdout",
     "output_type": "stream",
     "text": [
      "The line_profiler extension is already loaded. To reload it, use:\n",
      "  %reload_ext line_profiler\n"
     ]
    }
   ],
   "source": [
    "import pandas as pd\n",
    "import os\n",
    "\n",
    "%load_ext line_profiler"
   ]
  },
  {
   "cell_type": "code",
   "execution_count": 52,
   "metadata": {
    "collapsed": true
   },
   "outputs": [],
   "source": [
    "data = '../data/pandas-posts-dataset.csv'\n",
    "\n",
    "df = pd.read_csv(data, encoding='ISO-8859-1', error_bad_lines=False, sep=\";\")\n"
   ]
  },
  {
   "cell_type": "code",
   "execution_count": 53,
   "metadata": {
    "collapsed": true
   },
   "outputs": [],
   "source": [
    "from bs4 import BeautifulSoup\n",
    "\n",
    "def extract_tagged_code(text, tag):\n",
    "    soup = BeautifulSoup(text, \"html.parser\")\n",
    "    # Get the tag\n",
    "    tagged = soup.find_all(tag)\n",
    "    # Format from HTML to text\n",
    "    return [i.get_text() for i in tagged]"
   ]
  },
  {
   "cell_type": "markdown",
   "metadata": {},
   "source": [
    "### Original (Bad) Apply Implementation\n",
    "\n",
    "Dataframe is passed entirely in the apply method\n",
    "\n",
    "#### Why? \n",
    "The function populates multiple columns at once\n"
   ]
  },
  {
   "cell_type": "code",
   "execution_count": 54,
   "metadata": {
    "collapsed": true
   },
   "outputs": [],
   "source": [
    "def extract_code(df):\n",
    "    codelist = extract_tagged_code(df['Body'], 'pre')\n",
    "    # Code as a list (optional)\n",
    "    df['CodeList'] = codelist\n",
    "    # Concatenated code\n",
    "    df['Code'] = [''.join(codelist)]\n",
    "    return df\n"
   ]
  },
  {
   "cell_type": "code",
   "execution_count": 84,
   "metadata": {},
   "outputs": [
    {
     "name": "stdout",
     "output_type": "stream",
     "text": [
      "6.18 s ± 249 ms per loop (mean ± std. dev. of 7 runs, 1 loop each)\n"
     ]
    }
   ],
   "source": [
    "%%timeit    \n",
    "\n",
    "# Extract Code\n",
    "new_df1 = df.apply(extract_code, axis=1)"
   ]
  },
  {
   "cell_type": "markdown",
   "metadata": {},
   "source": [
    "### Proper Apply Implementation (Series)\n",
    "\n",
    "Pass only the essential information\n",
    "\n",
    "#### How to deal with multiple returns?\n",
    "\n",
    "1. Return a Series with names for each column\n"
   ]
  },
  {
   "cell_type": "code",
   "execution_count": 72,
   "metadata": {
    "collapsed": true
   },
   "outputs": [],
   "source": [
    "def extract_code_seriesapply(body):\n",
    "    codelist = extract_tagged_code(body, 'pre')\n",
    "    # Concatenated code\n",
    "    code = [''.join(codelist)]\n",
    "    return pd.Series({'Code': code, 'Codelist': codelist})"
   ]
  },
  {
   "cell_type": "code",
   "execution_count": 67,
   "metadata": {
    "collapsed": true
   },
   "outputs": [],
   "source": [
    "df2 = df.copy() # Just making sure not to mess with df"
   ]
  },
  {
   "cell_type": "code",
   "execution_count": 73,
   "metadata": {},
   "outputs": [
    {
     "name": "stdout",
     "output_type": "stream",
     "text": [
      "3.3 s ± 599 ms per loop (mean ± std. dev. of 7 runs, 1 loop each)\n"
     ]
    }
   ],
   "source": [
    "%%timeit\n",
    "\n",
    "# Extract Code\n",
    "new_df2 = df.append(df.Body.apply(extract_code_seriesapply))"
   ]
  },
  {
   "cell_type": "code",
   "execution_count": 91,
   "metadata": {},
   "outputs": [
    {
     "data": {
      "text/plain": [
       "True"
      ]
     },
     "execution_count": 91,
     "metadata": {},
     "output_type": "execute_result"
    }
   ],
   "source": [
    "new_df2.iloc[0].Code == new_df1.iloc[0].Code"
   ]
  },
  {
   "cell_type": "markdown",
   "metadata": {},
   "source": [
    "### Proper Apply Implementation (Lists)\n",
    "\n",
    "#### How to deal with multiple returns?\n",
    "\n",
    "1. Return a list and use zip to assign names at the return of the function"
   ]
  },
  {
   "cell_type": "code",
   "execution_count": 76,
   "metadata": {
    "collapsed": true
   },
   "outputs": [],
   "source": [
    "def extract_code_listapply(body):\n",
    "    codelist = extract_tagged_code(body, 'pre')\n",
    "    # Concatenated code\n",
    "    code = [''.join(codelist)]\n",
    "    return [code, codelist]"
   ]
  },
  {
   "cell_type": "code",
   "execution_count": 94,
   "metadata": {},
   "outputs": [
    {
     "name": "stdout",
     "output_type": "stream",
     "text": [
      "1.83 s ± 84.9 ms per loop (mean ± std. dev. of 7 runs, 1 loop each)\n"
     ]
    }
   ],
   "source": [
    "%%timeit\n",
    "\n",
    "new_df3 = df.copy()\n",
    "# Extract Code\n",
    "new_df3['Code'], new_df3['Codelist'] = zip(*new_df3.Body.apply(extract_code_listapply))"
   ]
  },
  {
   "cell_type": "code",
   "execution_count": 93,
   "metadata": {},
   "outputs": [
    {
     "data": {
      "text/plain": [
       "True"
      ]
     },
     "execution_count": 93,
     "metadata": {},
     "output_type": "execute_result"
    }
   ],
   "source": [
    "new_df2.iloc[0].Code == new_df3.iloc[0].Code"
   ]
  },
  {
   "cell_type": "markdown",
   "metadata": {},
   "source": [
    "### Vectorization\n",
    "\n",
    "Not only arithmetic operations are applied.\n",
    "**It cannot be vectorized.**"
   ]
  }
 ],
 "metadata": {
  "kernelspec": {
   "display_name": "Python 3",
   "language": "python",
   "name": "python3"
  },
  "language_info": {
   "codemirror_mode": {
    "name": "ipython",
    "version": 3
   },
   "file_extension": ".py",
   "mimetype": "text/x-python",
   "name": "python",
   "nbconvert_exporter": "python",
   "pygments_lexer": "ipython3",
   "version": "3.6.3"
  }
 },
 "nbformat": 4,
 "nbformat_minor": 2
}
